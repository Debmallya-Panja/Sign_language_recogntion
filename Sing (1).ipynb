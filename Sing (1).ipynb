{
  "cells": [
    {
      "cell_type": "code",
      "execution_count": null,
      "metadata": {
        "colab": {
          "base_uri": "https://localhost:8080/"
        },
        "id": "En2Nhjw7IlLT",
        "outputId": "62f4c2e3-c214-4347-d014-977dae4973ac"
      },
      "outputs": [
        {
          "output_type": "stream",
          "name": "stdout",
          "text": [
            "Drive already mounted at /content/drive; to attempt to forcibly remount, call drive.mount(\"/content/drive\", force_remount=True).\n"
          ]
        }
      ],
      "source": [
        "\n",
        "#############################################\n",
        "#           GOOGLE COLAB SETUP (if needed)\n",
        "##############################################\n",
        "from google.colab import drive\n",
        "drive.mount('/content/drive')"
      ]
    },
    {
      "cell_type": "code",
      "execution_count": null,
      "metadata": {
        "id": "SLFGVugfJJEs"
      },
      "outputs": [],
      "source": [
        "project_folder = \"/content/drive/MyDrive/project_folder\""
      ]
    },
    {
      "cell_type": "code",
      "execution_count": null,
      "metadata": {
        "id": "s2dle-0MJJ-p"
      },
      "outputs": [],
      "source": [
        "# Update this path to a folder in your Drive where you want to store your project files.\n",
        "project_folder = \"/content/drive/MyDrive/project_folder\"\n",
        "\n",
        "# Then update your paths accordingly:\n",
        "dataset_path =\"/content/drive/MyDrive/New folder (6)\"   # Your raw dataset folder\n",
        "train_dir = \"/content/drive/MyDrive/Processed/train\"\n",
        "val_dir   = \"/content/drive/MyDrive/Processed/val\"\n",
        "\n",
        "best_model_path = project_folder + \"/best_model.keras\"\n",
        "final_model_path = project_folder + \"/my_model.keras\"\n",
        "class_labels_path = project_folder + \"/class_labels.txt\""
      ]
    },
    {
      "cell_type": "code",
      "execution_count": null,
      "metadata": {
        "id": "no_9M6iRJKEp"
      },
      "outputs": [],
      "source": [
        "##############################################\n",
        "#           IMPORTS & SETUP\n",
        "##############################################\n",
        "import os\n",
        "import shutil\n",
        "import numpy as np\n",
        "import tensorflow as tf\n",
        "import matplotlib.pyplot as plt\n",
        "import cv2\n",
        "\n",
        "from tensorflow.keras.preprocessing.image import ImageDataGenerator, load_img, img_to_array\n",
        "from tensorflow.keras.applications import MobileNetV2\n",
        "from tensorflow.keras import models, layers, regularizers, activations\n",
        "from tensorflow.keras.optimizers import AdamW\n",
        "from tensorflow.keras.callbacks import EarlyStopping, ModelCheckpoint, ReduceLROnPlateau\n",
        "from tensorflow.keras.models import load_model\n"
      ]
    },
    {
      "cell_type": "code",
      "execution_count": null,
      "metadata": {
        "id": "S90uLEbkJKHv"
      },
      "outputs": [],
      "source": [
        "# Enable eager execution (for debugging; remove once training is stable)\n",
        "tf.config.run_functions_eagerly(True)"
      ]
    },
    {
      "cell_type": "code",
      "execution_count": null,
      "metadata": {
        "colab": {
          "base_uri": "https://localhost:8080/"
        },
        "id": "fzWmTc4WJKLr",
        "outputId": "8cf6392b-c695-4fb4-b213-3d00b053ff0c"
      },
      "outputs": [
        {
          "name": "stdout",
          "output_type": "stream",
          "text": [
            "✅ Train-validation split complete!\n"
          ]
        }
      ],
      "source": [
        "##############################################\n",
        "#  DATA PREPARATION: FLATTENING & SPLITTING\n",
        "##############################################\n",
        "def flatten_class_folder(src_dir, dest_dir):\n",
        "    \"\"\"\n",
        "    Recursively copy all image files from src_dir (including nested subdirectories)\n",
        "    into dest_dir.\n",
        "    \"\"\"\n",
        "    os.makedirs(dest_dir, exist_ok=True)\n",
        "    for root, dirs, files in os.walk(src_dir):\n",
        "        for file in files:\n",
        "            if file.lower().endswith(('.png', '.jpg', '.jpeg')):\n",
        "                src_file = os.path.join(root, file)\n",
        "                dst_file = os.path.join(dest_dir, file)\n",
        "                shutil.copy2(src_file, dst_file)\n",
        "\n",
        "def create_train_val_split(source_dir, train_dir, val_dir, split_ratio=0.2):\n",
        "    \"\"\"\n",
        "    For each class folder in source_dir, flatten nested subdirectories and split images\n",
        "    into train and validation folders.\n",
        "    \"\"\"\n",
        "    os.makedirs(train_dir, exist_ok=True)\n",
        "    os.makedirs(val_dir, exist_ok=True)\n",
        "\n",
        "    for class_name in os.listdir(source_dir):\n",
        "        class_path = os.path.join(source_dir, class_name)\n",
        "        if os.path.isdir(class_path):\n",
        "            # Create a temporary folder to hold flattened images\n",
        "            temp_folder = os.path.join(source_dir, class_name + '_flattened')\n",
        "            flatten_class_folder(class_path, temp_folder)\n",
        "\n",
        "            images = os.listdir(temp_folder)\n",
        "            np.random.shuffle(images)\n",
        "            split_idx = int(len(images) * (1 - split_ratio))\n",
        "            train_images, val_images = images[:split_idx], images[split_idx:]\n",
        "\n",
        "            os.makedirs(os.path.join(train_dir, class_name), exist_ok=True)\n",
        "            os.makedirs(os.path.join(val_dir, class_name), exist_ok=True)\n",
        "\n",
        "            for img in train_images:\n",
        "                shutil.copy2(os.path.join(temp_folder, img), os.path.join(train_dir, class_name, img))\n",
        "            for img in val_images:\n",
        "                shutil.copy2(os.path.join(temp_folder, img), os.path.join(val_dir, class_name, img))\n",
        "\n",
        "            # Remove the temporary folder\n",
        "            shutil.rmtree(temp_folder)\n",
        "    print(\"✅ Train-validation split complete!\")\n",
        "\n",
        "create_train_val_split(dataset_path, train_dir, val_dir, split_ratio=0.2)"
      ]
    },
    {
      "cell_type": "code",
      "execution_count": null,
      "metadata": {
        "colab": {
          "base_uri": "https://localhost:8080/"
        },
        "id": "HTjIaCoVJKOi",
        "outputId": "c69b487b-7091-46be-b57f-a0ad41a7a34d"
      },
      "outputs": [
        {
          "output_type": "stream",
          "name": "stdout",
          "text": [
            "Found 40262 images belonging to 84 classes.\n",
            "Found 10086 images belonging to 84 classes.\n"
          ]
        }
      ],
      "source": [
        "#############################################\n",
        "#  DATA AUGMENTATION & GENERATORS\n",
        "##############################################\n",
        "img_size = 128\n",
        "batch_size = 32  # Adjust this if needed (try lowering if you experience memory issues)\n",
        "\n",
        "train_datagen = ImageDataGenerator(\n",
        "    rescale=1./255,\n",
        "    rotation_range=20,\n",
        "    width_shift_range=0.15,\n",
        "    height_shift_range=0.15,\n",
        "    zoom_range=0.2,\n",
        "    brightness_range=[0.8, 1.2],\n",
        "    horizontal_flip=True,\n",
        "    shear_range=0.1,\n",
        "    fill_mode='nearest'\n",
        ")\n",
        "val_datagen = ImageDataGenerator(rescale=1./255)\n",
        "\n",
        "train_gen = train_datagen.flow_from_directory(\n",
        "    train_dir, target_size=(img_size, img_size),\n",
        "    batch_size=batch_size, class_mode='categorical', shuffle=True\n",
        ")\n",
        "val_gen = val_datagen.flow_from_directory(\n",
        "    val_dir, target_size=(img_size, img_size),\n",
        "    batch_size=batch_size, class_mode='categorical', shuffle=False\n",
        ")"
      ]
    },
    {
      "cell_type": "code",
      "execution_count": null,
      "metadata": {
        "colab": {
          "base_uri": "https://localhost:8080/"
        },
        "id": "nwmud3FhJKRb",
        "outputId": "3b7a9cd6-bf26-4af6-c8d3-8562b2bbe579"
      },
      "outputs": [
        {
          "output_type": "stream",
          "name": "stdout",
          "text": [
            "✅ Dataset loaded successfully & labels saved!\n"
          ]
        }
      ],
      "source": [
        "# Save class labels for later real-time prediction\n",
        "class_labels = list(train_gen.class_indices.keys())\n",
        "class_labels_path = project_folder + \"/class_labels.txt\"\n",
        "with open(class_labels_path, 'w') as file:\n",
        "    for label in class_labels:\n",
        "        file.write(label + \"\\n\")\n",
        "print(\"✅ Dataset loaded successfully & labels saved!\")"
      ]
    },
    {
      "cell_type": "code",
      "execution_count": null,
      "metadata": {
        "id": "KVi3d4rmJKU1"
      },
      "outputs": [],
      "source": [
        "##############################################\n",
        "#  MODEL BUILDING: FINE-TUNED MobileNetV2 + SE BLOCK\n",
        "##############################################\n",
        "def se_block(input_tensor, ratio=16):\n",
        "    \"\"\"Squeeze-and-Excitation block.\"\"\"\n",
        "    channel_axis = -1\n",
        "    filters = input_tensor.shape[channel_axis]\n",
        "    se = layers.GlobalAveragePooling2D()(input_tensor)\n",
        "    se = layers.Reshape((1, 1, filters))(se)\n",
        "    se = layers.Dense(filters // ratio, activation='relu', kernel_initializer='he_normal', use_bias=False)(se)\n",
        "    se = layers.Dense(filters, activation='sigmoid', kernel_initializer='he_normal', use_bias=False)(se)\n",
        "    x = layers.multiply([input_tensor, se])\n",
        "    return x"
      ]
    },
    {
      "cell_type": "code",
      "execution_count": null,
      "metadata": {
        "colab": {
          "base_uri": "https://localhost:8080/"
        },
        "id": "8jz13ebCJggz",
        "outputId": "48c6dbaf-db8d-45ed-b5d8-93f9f3bf1427"
      },
      "outputs": [
        {
          "output_type": "stream",
          "name": "stdout",
          "text": [
            "Downloading data from https://storage.googleapis.com/tensorflow/keras-applications/mobilenet_v2/mobilenet_v2_weights_tf_dim_ordering_tf_kernels_1.0_128_no_top.h5\n",
            "\u001b[1m9406464/9406464\u001b[0m \u001b[32m━━━━━━━━━━━━━━━━━━━━\u001b[0m\u001b[37m\u001b[0m \u001b[1m0s\u001b[0m 0us/step\n"
          ]
        }
      ],
      "source": [
        "# Load base model and fine-tune last 20 layers (unfreeze last 20)\n",
        "base_model = MobileNetV2(input_shape=(img_size, img_size, 3), include_top=False, weights='imagenet')\n",
        "for layer in base_model.layers[:-20]:\n",
        "    layer.trainable = False"
      ]
    },
    {
      "cell_type": "code",
      "execution_count": null,
      "metadata": {
        "id": "DrjeeaYKJgkJ"
      },
      "outputs": [],
      "source": [
        "model = models.Sequential([\n",
        "    base_model,\n",
        "    layers.GlobalAveragePooling2D(),\n",
        "    layers.BatchNormalization(),  # Added for improved stability\n",
        "    layers.Dense(256, activation='relu', kernel_regularizer=regularizers.l2(0.001)),\n",
        "    layers.Dropout(0.6),  # Increased dropout to reduce overfitting\n",
        "    layers.Dense(len(class_labels), activation='softmax')\n",
        "])\n",
        "\n",
        "# Use AdamW with a lower learning rate to gently update weights\n",
        "model.compile(optimizer=AdamW(learning_rate=5e-5), loss='categorical_crossentropy', metrics=['accuracy'])\n"
      ]
    },
    {
      "cell_type": "code",
      "execution_count": null,
      "metadata": {
        "id": "aFHWrjigJgnC"
      },
      "outputs": [],
      "source": [
        "class AccumOptimizer(tf.keras.optimizers.Optimizer):\n",
        "    def __init__(self, optimizer, accum_steps=4, name=\"AccumOptimizer\", **kwargs):\n",
        "        # Extract a float learning rate from the underlying optimizer\n",
        "        lr = float(tf.keras.backend.get_value(optimizer.learning_rate))\n",
        "        super(AccumOptimizer, self).__init__(learning_rate=lr, name=name, **kwargs)\n",
        "        self.optimizer = optimizer\n",
        "        self.accum_steps = accum_steps\n",
        "        self._gradients = None\n",
        "        self.step = 0\n",
        "\n",
        "    @tf.function\n",
        "    def apply_gradients(self, grads_and_vars, name=None, **kwargs):\n",
        "        # Filter out any gradient-variable pairs where gradient is None\n",
        "        grads_and_vars = [(grad, var) for grad, var in grads_and_vars if grad is not None]\n",
        "        if not grads_and_vars:\n",
        "            return\n",
        "\n",
        "        # Initialize accumulator if necessary (or if number of grads has changed)\n",
        "        if self._gradients is None or len(self._gradients) != len(grads_and_vars):\n",
        "            self._gradients = [tf.zeros_like(var) for grad, var in grads_and_vars]\n",
        "\n",
        "        # Accumulate gradients\n",
        "        self._gradients = [accum_grad + grad for accum_grad, (grad, var) in zip(self._gradients, grads_and_vars)]\n",
        "        self.step += 1\n",
        "\n",
        "        if self.step % self.accum_steps == 0:\n",
        "            scaled_grads_and_vars = [(grad / self.accum_steps, var) for grad, var in zip(self._gradients, [var for _, var in grads_and_vars])]\n",
        "            self.optimizer.apply_gradients(scaled_grads_and_vars, **kwargs)\n",
        "            self._gradients = None  # Reset after applying\n",
        "        return\n",
        "\n",
        "    def get_config(self):\n",
        "        config = {\n",
        "            'accum_steps': self.accum_steps,\n",
        "            'optimizer': tf.keras.optimizers.serialize(self.optimizer)\n",
        "        }\n",
        "        base_config = super(AccumOptimizer, self).get_config()\n",
        "        return dict(list(base_config.items()) + list(config.items()))\n",
        "\n",
        "accum_steps = 4\n",
        "base_optimizer = AdamW(learning_rate=5e-5)\n",
        "optimizer = AccumOptimizer(base_optimizer, accum_steps=accum_steps)\n"
      ]
    },
    {
      "cell_type": "code",
      "execution_count": null,
      "metadata": {
        "colab": {
          "base_uri": "https://localhost:8080/"
        },
        "id": "xq56BApGJgpu",
        "outputId": "78961d5a-181e-4788-e3dc-475a4bcfdfcb"
      },
      "outputs": [
        {
          "name": "stdout",
          "output_type": "stream",
          "text": [
            "Epoch 1/30\n"
          ]
        },
        {
          "name": "stderr",
          "output_type": "stream",
          "text": [
            "/usr/local/lib/python3.11/dist-packages/tensorflow/python/data/ops/structured_function.py:258: UserWarning: Even though the `tf.config.experimental_run_functions_eagerly` option is set, this option does not apply to tf.data functions. To force eager execution of tf.data functions, please use `tf.data.experimental.enable_debug_mode()`.\n",
            "  warnings.warn(\n",
            "/usr/local/lib/python3.11/dist-packages/keras/src/trainers/data_adapters/py_dataset_adapter.py:122: UserWarning: Your `PyDataset` class should call `super().__init__(**kwargs)` in its constructor. `**kwargs` can include `workers`, `use_multiprocessing`, `max_queue_size`. Do not pass these arguments to `fit()`, as they will be ignored.\n",
            "  self._warn_if_super_not_called()\n"
          ]
        },
        {
          "name": "stdout",
          "output_type": "stream",
          "text": [
            "\u001b[1m1259/1259\u001b[0m \u001b[32m━━━━━━━━━━━━━━━━━━━━\u001b[0m\u001b[37m\u001b[0m \u001b[1m0s\u001b[0m 1s/step - accuracy: 0.4401 - loss: 3.1769\n",
            "Epoch 1: val_loss improved from inf to 1.06817, saving model to /content/drive/MyDrive/project_folder/best_model.keras\n",
            "\u001b[1m1259/1259\u001b[0m \u001b[32m━━━━━━━━━━━━━━━━━━━━\u001b[0m\u001b[37m\u001b[0m \u001b[1m1899s\u001b[0m 2s/step - accuracy: 0.4402 - loss: 3.1760 - val_accuracy: 0.8567 - val_loss: 1.0682 - learning_rate: 5.0000e-05\n",
            "Epoch 2/30\n",
            "\u001b[1m1259/1259\u001b[0m \u001b[32m━━━━━━━━━━━━━━━━━━━━\u001b[0m\u001b[37m\u001b[0m \u001b[1m0s\u001b[0m 1s/step - accuracy: 0.8451 - loss: 1.1430\n",
            "Epoch 2: val_loss improved from 1.06817 to 1.02724, saving model to /content/drive/MyDrive/project_folder/best_model.keras\n",
            "\u001b[1m1259/1259\u001b[0m \u001b[32m━━━━━━━━━━━━━━━━━━━━\u001b[0m\u001b[37m\u001b[0m \u001b[1m1912s\u001b[0m 1s/step - accuracy: 0.8451 - loss: 1.1430 - val_accuracy: 0.8621 - val_loss: 1.0272 - learning_rate: 5.0000e-05\n",
            "Epoch 3/30\n",
            "\u001b[1m1259/1259\u001b[0m \u001b[32m━━━━━━━━━━━━━━━━━━━━\u001b[0m\u001b[37m\u001b[0m \u001b[1m0s\u001b[0m 1s/step - accuracy: 0.8539 - loss: 1.0735\n",
            "Epoch 3: val_loss improved from 1.02724 to 1.00093, saving model to /content/drive/MyDrive/project_folder/best_model.keras\n",
            "\u001b[1m1259/1259\u001b[0m \u001b[32m━━━━━━━━━━━━━━━━━━━━\u001b[0m\u001b[37m\u001b[0m \u001b[1m1889s\u001b[0m 1s/step - accuracy: 0.8539 - loss: 1.0734 - val_accuracy: 0.8615 - val_loss: 1.0009 - learning_rate: 5.0000e-05\n",
            "Epoch 4/30\n",
            "\u001b[1m1259/1259\u001b[0m \u001b[32m━━━━━━━━━━━━━━━━━━━━\u001b[0m\u001b[37m\u001b[0m \u001b[1m0s\u001b[0m 1s/step - accuracy: 0.8578 - loss: 1.0340\n",
            "Epoch 4: val_loss improved from 1.00093 to 0.96862, saving model to /content/drive/MyDrive/project_folder/best_model.keras\n",
            "\u001b[1m1259/1259\u001b[0m \u001b[32m━━━━━━━━━━━━━━━━━━━━\u001b[0m\u001b[37m\u001b[0m \u001b[1m1899s\u001b[0m 2s/step - accuracy: 0.8578 - loss: 1.0340 - val_accuracy: 0.8665 - val_loss: 0.9686 - learning_rate: 5.0000e-05\n",
            "Epoch 5/30\n",
            "\u001b[1m1259/1259\u001b[0m \u001b[32m━━━━━━━━━━━━━━━━━━━━\u001b[0m\u001b[37m\u001b[0m \u001b[1m0s\u001b[0m 2s/step - accuracy: 0.8627 - loss: 0.9945\n",
            "Epoch 5: val_loss improved from 0.96862 to 0.93500, saving model to /content/drive/MyDrive/project_folder/best_model.keras\n",
            "\u001b[1m1259/1259\u001b[0m \u001b[32m━━━━━━━━━━━━━━━━━━━━\u001b[0m\u001b[37m\u001b[0m \u001b[1m2268s\u001b[0m 2s/step - accuracy: 0.8627 - loss: 0.9945 - val_accuracy: 0.8665 - val_loss: 0.9350 - learning_rate: 5.0000e-05\n",
            "Epoch 6/30\n",
            "\u001b[1m1259/1259\u001b[0m \u001b[32m━━━━━━━━━━━━━━━━━━━━\u001b[0m\u001b[37m\u001b[0m \u001b[1m0s\u001b[0m 2s/step - accuracy: 0.8637 - loss: 0.9669\n",
            "Epoch 6: val_loss improved from 0.93500 to 0.91501, saving model to /content/drive/MyDrive/project_folder/best_model.keras\n",
            "\u001b[1m1259/1259\u001b[0m \u001b[32m━━━━━━━━━━━━━━━━━━━━\u001b[0m\u001b[37m\u001b[0m \u001b[1m2532s\u001b[0m 2s/step - accuracy: 0.8637 - loss: 0.9669 - val_accuracy: 0.8708 - val_loss: 0.9150 - learning_rate: 5.0000e-05\n",
            "Epoch 7/30\n",
            "\u001b[1m1259/1259\u001b[0m \u001b[32m━━━━━━━━━━━━━━━━━━━━\u001b[0m\u001b[37m\u001b[0m \u001b[1m0s\u001b[0m 2s/step - accuracy: 0.8659 - loss: 0.9388\n",
            "Epoch 7: val_loss improved from 0.91501 to 0.87873, saving model to /content/drive/MyDrive/project_folder/best_model.keras\n",
            "\u001b[1m1259/1259\u001b[0m \u001b[32m━━━━━━━━━━━━━━━━━━━━\u001b[0m\u001b[37m\u001b[0m \u001b[1m2570s\u001b[0m 2s/step - accuracy: 0.8659 - loss: 0.9388 - val_accuracy: 0.8714 - val_loss: 0.8787 - learning_rate: 5.0000e-05\n",
            "Epoch 8/30\n",
            "\u001b[1m1259/1259\u001b[0m \u001b[32m━━━━━━━━━━━━━━━━━━━━\u001b[0m\u001b[37m\u001b[0m \u001b[1m0s\u001b[0m 2s/step - accuracy: 0.8684 - loss: 0.9087\n",
            "Epoch 8: val_loss improved from 0.87873 to 0.85568, saving model to /content/drive/MyDrive/project_folder/best_model.keras\n",
            "\u001b[1m1259/1259\u001b[0m \u001b[32m━━━━━━━━━━━━━━━━━━━━\u001b[0m\u001b[37m\u001b[0m \u001b[1m2504s\u001b[0m 2s/step - accuracy: 0.8684 - loss: 0.9087 - val_accuracy: 0.8744 - val_loss: 0.8557 - learning_rate: 5.0000e-05\n",
            "Epoch 9/30\n",
            "\u001b[1m1259/1259\u001b[0m \u001b[32m━━━━━━━━━━━━━━━━━━━━\u001b[0m\u001b[37m\u001b[0m \u001b[1m0s\u001b[0m 2s/step - accuracy: 0.8701 - loss: 0.8808\n",
            "Epoch 9: val_loss improved from 0.85568 to 0.82655, saving model to /content/drive/MyDrive/project_folder/best_model.keras\n",
            "\u001b[1m1259/1259\u001b[0m \u001b[32m━━━━━━━━━━━━━━━━━━━━\u001b[0m\u001b[37m\u001b[0m \u001b[1m2481s\u001b[0m 2s/step - accuracy: 0.8701 - loss: 0.8808 - val_accuracy: 0.8751 - val_loss: 0.8265 - learning_rate: 5.0000e-05\n",
            "Epoch 10/30\n",
            "\u001b[1m1259/1259\u001b[0m \u001b[32m━━━━━━━━━━━━━━━━━━━━\u001b[0m\u001b[37m\u001b[0m \u001b[1m0s\u001b[0m 2s/step - accuracy: 0.8722 - loss: 0.8517\n",
            "Epoch 10: val_loss improved from 0.82655 to 0.79315, saving model to /content/drive/MyDrive/project_folder/best_model.keras\n",
            "\u001b[1m1259/1259\u001b[0m \u001b[32m━━━━━━━━━━━━━━━━━━━━\u001b[0m\u001b[37m\u001b[0m \u001b[1m2589s\u001b[0m 2s/step - accuracy: 0.8722 - loss: 0.8517 - val_accuracy: 0.8795 - val_loss: 0.7932 - learning_rate: 5.0000e-05\n",
            "Epoch 11/30\n",
            "\u001b[1m1259/1259\u001b[0m \u001b[32m━━━━━━━━━━━━━━━━━━━━\u001b[0m\u001b[37m\u001b[0m \u001b[1m0s\u001b[0m 2s/step - accuracy: 0.8750 - loss: 0.8160\n",
            "Epoch 11: val_loss improved from 0.79315 to 0.76106, saving model to /content/drive/MyDrive/project_folder/best_model.keras\n",
            "\u001b[1m1259/1259\u001b[0m \u001b[32m━━━━━━━━━━━━━━━━━━━━\u001b[0m\u001b[37m\u001b[0m \u001b[1m2270s\u001b[0m 2s/step - accuracy: 0.8750 - loss: 0.8160 - val_accuracy: 0.8824 - val_loss: 0.7611 - learning_rate: 5.0000e-05\n",
            "Epoch 12/30\n",
            "\u001b[1m1259/1259\u001b[0m \u001b[32m━━━━━━━━━━━━━━━━━━━━\u001b[0m\u001b[37m\u001b[0m \u001b[1m0s\u001b[0m 2s/step - accuracy: 0.8776 - loss: 0.7918\n",
            "Epoch 12: val_loss improved from 0.76106 to 0.73916, saving model to /content/drive/MyDrive/project_folder/best_model.keras\n",
            "\u001b[1m1259/1259\u001b[0m \u001b[32m━━━━━━━━━━━━━━━━━━━━\u001b[0m\u001b[37m\u001b[0m \u001b[1m2612s\u001b[0m 2s/step - accuracy: 0.8776 - loss: 0.7918 - val_accuracy: 0.8826 - val_loss: 0.7392 - learning_rate: 5.0000e-05\n",
            "Epoch 13/30\n",
            "\u001b[1m1259/1259\u001b[0m \u001b[32m━━━━━━━━━━━━━━━━━━━━\u001b[0m\u001b[37m\u001b[0m \u001b[1m0s\u001b[0m 2s/step - accuracy: 0.8792 - loss: 0.7627\n",
            "Epoch 13: val_loss improved from 0.73916 to 0.70114, saving model to /content/drive/MyDrive/project_folder/best_model.keras\n",
            "\u001b[1m1259/1259\u001b[0m \u001b[32m━━━━━━━━━━━━━━━━━━━━\u001b[0m\u001b[37m\u001b[0m \u001b[1m2420s\u001b[0m 2s/step - accuracy: 0.8792 - loss: 0.7627 - val_accuracy: 0.8890 - val_loss: 0.7011 - learning_rate: 5.0000e-05\n",
            "Epoch 14/30\n",
            "\u001b[1m  91/1259\u001b[0m \u001b[32m━\u001b[0m\u001b[37m━━━━━━━━━━━━━━━━━━━\u001b[0m \u001b[1m33:20\u001b[0m 2s/step - accuracy: 0.8792 - loss: 0.7518"
          ]
        }
      ],
      "source": [
        "##############################################\n",
        "#  MODEL COMPILATION & TRAINING\n",
        "##############################################\n",
        "model.compile(optimizer=optimizer, loss='categorical_crossentropy', metrics=['accuracy'])\n",
        "\n",
        "early_stop = EarlyStopping(monitor='val_loss', patience=5, restore_best_weights=True)\n",
        "checkpoint = ModelCheckpoint(best_model_path, monitor='val_loss', save_best_only=True, verbose=1)\n",
        "reduce_lr = ReduceLROnPlateau(monitor='val_loss', factor=0.5, patience=3, verbose=1)\n",
        "\n",
        "EPOCHS = 30\n",
        "history = model.fit(\n",
        "    train_gen,\n",
        "    validation_data=val_gen,\n",
        "    epochs=EPOCHS,\n",
        "    callbacks=[early_stop, checkpoint, reduce_lr]\n",
        ")"
      ]
    },
    {
      "cell_type": "code",
      "execution_count": null,
      "metadata": {
        "id": "m9b0so3ONQ1l"
      },
      "outputs": [],
      "source": [
        "tf.config.optimizer.set_jit(True)"
      ]
    },
    {
      "cell_type": "code",
      "execution_count": null,
      "metadata": {
        "id": "hSIerOFvT4JQ"
      },
      "outputs": [],
      "source": [
        "import tensorflow as tf\n",
        "from tensorflow.keras.optimizers import Optimizer\n",
        "from tensorflow.keras.saving import register_keras_serializable\n",
        "\n",
        "@register_keras_serializable()\n",
        "class AccumOptimizer(Optimizer):\n",
        "    def __init__(self, optimizer, accum_steps=4, name=\"AccumOptimizer\", **kwargs):\n",
        "        if isinstance(optimizer, dict):\n",
        "            optimizer = tf.keras.optimizers.deserialize(optimizer)\n",
        "\n",
        "        super(AccumOptimizer, self).__init__(name=name, **kwargs)\n",
        "        self.optimizer = optimizer\n",
        "        self.accum_steps = accum_steps\n",
        "        self.accumulated_gradients = None\n",
        "\n",
        "    def build(self, var_list):\n",
        "        if self.accumulated_gradients is None:\n",
        "            self.accumulated_gradients = [tf.Variable(tf.zeros_like(v), trainable=False) for v in var_list]\n",
        "\n",
        "    @property\n",
        "    def iterations(self):\n",
        "        return self.optimizer.iterations\n",
        "\n",
        "    def apply_gradients(self, grads_and_vars, experimental_aggregate_gradients=True):\n",
        "        grads, vars = zip(*grads_and_vars)\n",
        "\n",
        "        if self.accumulated_gradients is None:\n",
        "            self.build(vars)\n",
        "\n",
        "        for i, grad in enumerate(grads):\n",
        "            if grad is not None:\n",
        "                self.accumulated_gradients[i].assign_add(grad)\n",
        "\n",
        "        step = self.optimizer.iterations + 1\n",
        "\n",
        "        def apply_accumulated():\n",
        "            avg_grads = [g / self.accum_steps for g in self.accumulated_gradients]\n",
        "            self.optimizer.apply_gradients(zip(avg_grads, vars))  # ✅ Removed name=name\n",
        "            for g in self.accumulated_gradients:\n",
        "                g.assign(tf.zeros_like(g))\n",
        "\n",
        "        tf.cond(tf.equal(step % self.accum_steps, 0), apply_accumulated, lambda: None)\n",
        "\n",
        "    def get_config(self):\n",
        "        config = super().get_config()\n",
        "        config.update({\n",
        "            \"optimizer\": tf.keras.optimizers.serialize(self.optimizer),\n",
        "            \"accum_steps\": self.accum_steps\n",
        "        })\n",
        "        return config\n",
        "\n",
        "\n"
      ]
    },
    {
      "cell_type": "code",
      "execution_count": null,
      "metadata": {
        "colab": {
          "base_uri": "https://localhost:8080/"
        },
        "id": "ph_FZmbdJxQa",
        "outputId": "3040fd5b-886c-401d-a5ad-68e79f8fb5cb"
      },
      "outputs": [
        {
          "name": "stdout",
          "output_type": "stream",
          "text": [
            "Drive already mounted at /content/drive; to attempt to forcibly remount, call drive.mount(\"/content/drive\", force_remount=True).\n",
            "best_model.keras  class_labels.txt\n"
          ]
        },
        {
          "name": "stderr",
          "output_type": "stream",
          "text": [
            "/usr/local/lib/python3.11/dist-packages/keras/src/saving/saving_lib.py:757: UserWarning: Skipping variable loading for optimizer 'adamw', because it has 2 variables whereas the saved optimizer has 56 variables. \n",
            "  saveable.load_own_variables(weights_store.get(inner_path))\n",
            "/usr/local/lib/python3.11/dist-packages/keras/src/trainers/data_adapters/py_dataset_adapter.py:121: UserWarning: Your `PyDataset` class should call `super().__init__(**kwargs)` in its constructor. `**kwargs` can include `workers`, `use_multiprocessing`, `max_queue_size`. Do not pass these arguments to `fit()`, as they will be ignored.\n",
            "  self._warn_if_super_not_called()\n"
          ]
        },
        {
          "name": "stdout",
          "output_type": "stream",
          "text": [
            "Epoch 14/30\n"
          ]
        },
        {
          "name": "stderr",
          "output_type": "stream",
          "text": [
            "/usr/local/lib/python3.11/dist-packages/tensorflow/python/data/ops/structured_function.py:258: UserWarning: Even though the `tf.config.experimental_run_functions_eagerly` option is set, this option does not apply to tf.data functions. To force eager execution of tf.data functions, please use `tf.data.experimental.enable_debug_mode()`.\n",
            "  warnings.warn(\n"
          ]
        },
        {
          "name": "stdout",
          "output_type": "stream",
          "text": [
            "\u001b[1m1259/1259\u001b[0m \u001b[32m━━━━━━━━━━━━━━━━━━━━\u001b[0m\u001b[37m\u001b[0m \u001b[1m0s\u001b[0m 8s/step - accuracy: 0.8835 - loss: 0.7359\n",
            "Epoch 14: val_loss improved from inf to 0.69989, saving model to /content/drive/MyDrive/project_folder/best_model.keras\n",
            "\u001b[1m1259/1259\u001b[0m \u001b[32m━━━━━━━━━━━━━━━━━━━━\u001b[0m\u001b[37m\u001b[0m \u001b[1m11887s\u001b[0m 9s/step - accuracy: 0.8835 - loss: 0.7359 - val_accuracy: 0.8897 - val_loss: 0.6999 - learning_rate: 5.0000e-05\n",
            "Epoch 15/30\n",
            "\u001b[1m1259/1259\u001b[0m \u001b[32m━━━━━━━━━━━━━━━━━━━━\u001b[0m\u001b[37m\u001b[0m \u001b[1m0s\u001b[0m 3s/step - accuracy: 0.8813 - loss: 0.7347\n",
            "Epoch 15: val_loss improved from 0.69989 to 0.69964, saving model to /content/drive/MyDrive/project_folder/best_model.keras\n",
            "\u001b[1m1259/1259\u001b[0m \u001b[32m━━━━━━━━━━━━━━━━━━━━\u001b[0m\u001b[37m\u001b[0m \u001b[1m3487s\u001b[0m 3s/step - accuracy: 0.8813 - loss: 0.7347 - val_accuracy: 0.8900 - val_loss: 0.6996 - learning_rate: 5.0000e-05\n",
            "Epoch 16/30\n",
            "\u001b[1m1259/1259\u001b[0m \u001b[32m━━━━━━━━━━━━━━━━━━━━\u001b[0m\u001b[37m\u001b[0m \u001b[1m0s\u001b[0m 3s/step - accuracy: 0.8777 - loss: 0.7536\n",
            "Epoch 16: val_loss improved from 0.69964 to 0.69961, saving model to /content/drive/MyDrive/project_folder/best_model.keras\n",
            "\u001b[1m1259/1259\u001b[0m \u001b[32m━━━━━━━━━━━━━━━━━━━━\u001b[0m\u001b[37m\u001b[0m \u001b[1m3556s\u001b[0m 3s/step - accuracy: 0.8777 - loss: 0.7536 - val_accuracy: 0.8900 - val_loss: 0.6996 - learning_rate: 5.0000e-05\n",
            "Epoch 17/30\n",
            "\u001b[1m1259/1259\u001b[0m \u001b[32m━━━━━━━━━━━━━━━━━━━━\u001b[0m\u001b[37m\u001b[0m \u001b[1m0s\u001b[0m 3s/step - accuracy: 0.8814 - loss: 0.7376\n",
            "Epoch 17: val_loss did not improve from 0.69961\n",
            "\u001b[1m1259/1259\u001b[0m \u001b[32m━━━━━━━━━━━━━━━━━━━━\u001b[0m\u001b[37m\u001b[0m \u001b[1m3526s\u001b[0m 3s/step - accuracy: 0.8814 - loss: 0.7376 - val_accuracy: 0.8900 - val_loss: 0.6997 - learning_rate: 5.0000e-05\n",
            "Epoch 18/30\n",
            "\u001b[1m1259/1259\u001b[0m \u001b[32m━━━━━━━━━━━━━━━━━━━━\u001b[0m\u001b[37m\u001b[0m \u001b[1m0s\u001b[0m 3s/step - accuracy: 0.8824 - loss: 0.7369\n",
            "Epoch 18: val_loss did not improve from 0.69961\n",
            "\n",
            "Epoch 18: ReduceLROnPlateau reducing learning rate to 2.499999936844688e-05.\n",
            "\u001b[1m1259/1259\u001b[0m \u001b[32m━━━━━━━━━━━━━━━━━━━━\u001b[0m\u001b[37m\u001b[0m \u001b[1m3616s\u001b[0m 3s/step - accuracy: 0.8824 - loss: 0.7370 - val_accuracy: 0.8903 - val_loss: 0.6997 - learning_rate: 5.0000e-05\n",
            "Epoch 19/30\n",
            "\u001b[1m1259/1259\u001b[0m \u001b[32m━━━━━━━━━━━━━━━━━━━━\u001b[0m\u001b[37m\u001b[0m \u001b[1m0s\u001b[0m 3s/step - accuracy: 0.8823 - loss: 0.7378\n",
            "Epoch 19: val_loss improved from 0.69961 to 0.69958, saving model to /content/drive/MyDrive/project_folder/best_model.keras\n",
            "\u001b[1m1259/1259\u001b[0m \u001b[32m━━━━━━━━━━━━━━━━━━━━\u001b[0m\u001b[37m\u001b[0m \u001b[1m3580s\u001b[0m 3s/step - accuracy: 0.8823 - loss: 0.7378 - val_accuracy: 0.8901 - val_loss: 0.6996 - learning_rate: 2.5000e-05\n",
            "Epoch 20/30\n",
            "\u001b[1m1259/1259\u001b[0m \u001b[32m━━━━━━━━━━━━━━━━━━━━\u001b[0m\u001b[37m\u001b[0m \u001b[1m0s\u001b[0m 3s/step - accuracy: 0.8813 - loss: 0.7385\n",
            "Epoch 20: val_loss did not improve from 0.69958\n",
            "\u001b[1m1259/1259\u001b[0m \u001b[32m━━━━━━━━━━━━━━━━━━━━\u001b[0m\u001b[37m\u001b[0m \u001b[1m3511s\u001b[0m 3s/step - accuracy: 0.8813 - loss: 0.7385 - val_accuracy: 0.8902 - val_loss: 0.6997 - learning_rate: 2.5000e-05\n",
            "Epoch 21/30\n",
            "\u001b[1m1259/1259\u001b[0m \u001b[32m━━━━━━━━━━━━━━━━━━━━\u001b[0m\u001b[37m\u001b[0m \u001b[1m0s\u001b[0m 3s/step - accuracy: 0.8826 - loss: 0.7393\n",
            "Epoch 21: val_loss did not improve from 0.69958\n",
            "\n",
            "Epoch 21: ReduceLROnPlateau reducing learning rate to 1.249999968422344e-05.\n",
            "\u001b[1m1259/1259\u001b[0m \u001b[32m━━━━━━━━━━━━━━━━━━━━\u001b[0m\u001b[37m\u001b[0m \u001b[1m3605s\u001b[0m 3s/step - accuracy: 0.8826 - loss: 0.7394 - val_accuracy: 0.8900 - val_loss: 0.6997 - learning_rate: 2.5000e-05\n",
            "Epoch 22/30\n",
            "\u001b[1m 306/1259\u001b[0m \u001b[32m━━━━\u001b[0m\u001b[37m━━━━━━━━━━━━━━━━\u001b[0m \u001b[1m40:49\u001b[0m 3s/step - accuracy: 0.8795 - loss: 0.7526"
          ]
        }
      ],
      "source": [
        "\n",
        "from google.colab import drive\n",
        "drive.mount('/content/drive')\n",
        "\n",
        "# Set your project folder path on Google Drive\n",
        "project_folder = \"/content/drive/MyDrive/project_folder\"\n",
        "best_model_path = project_folder + \"/best_model.keras\"  # or use .h5 if that's what you saved\n",
        "final_model_path = project_folder + \"/my_model.keras\"\n",
        "\n",
        "# Verify that the model file exists (optional)\n",
        "!ls {project_folder}\n",
        "\n",
        "\n",
        "from tensorflow.keras.models import load_model\n",
        "\n",
        "best_model_path = \"/content/drive/MyDrive/project_folder/best_model.keras\"\n",
        "\n",
        "model = load_model(best_model_path, custom_objects={\"AccumOptimizer\": AccumOptimizer})\n",
        "\n",
        "\n",
        "\n",
        "\n",
        "# Specify the initial epoch and additional epochs\n",
        "initial_epoch = 13\n",
        "additional_epochs = 17  # e.g., continue training for 17 more epochs\n",
        "\n",
        "# Re-define callbacks if needed\n",
        "from tensorflow.keras.callbacks import EarlyStopping, ModelCheckpoint, ReduceLROnPlateau\n",
        "\n",
        "early_stop = EarlyStopping(monitor='val_loss', patience=5, restore_best_weights=True)\n",
        "checkpoint = ModelCheckpoint(best_model_path, monitor='val_loss', save_best_only=True, verbose=1)\n",
        "reduce_lr = ReduceLROnPlateau(monitor='val_loss', factor=0.5, patience=3, verbose=1)\n",
        "\n",
        "# Resume training with initial_epoch set\n",
        "history = model.fit(\n",
        "    train_gen,\n",
        "    validation_data=val_gen,\n",
        "    epochs=initial_epoch + additional_epochs,\n",
        "    initial_epoch=initial_epoch,\n",
        "    callbacks=[early_stop, checkpoint, reduce_lr]\n",
        ")\n"
      ]
    },
    {
      "cell_type": "code",
      "execution_count": null,
      "metadata": {
        "colab": {
          "base_uri": "https://localhost:8080/"
        },
        "id": "PoVGDECMRkWO",
        "outputId": "146fd9a2-589d-4280-9e34-c737fabf240d"
      },
      "outputs": [
        {
          "metadata": {
            "tags": null
          },
          "name": "stdout",
          "output_type": "stream",
          "text": [
            "Drive already mounted at /content/drive; to attempt to forcibly remount, call drive.mount(\"/content/drive\", force_remount=True).\n",
            "best_model.keras  class_labels.txt\n"
          ]
        },
        {
          "metadata": {
            "tags": null
          },
          "name": "stderr",
          "output_type": "stream",
          "text": [
            "/usr/local/lib/python3.11/dist-packages/keras/src/trainers/data_adapters/py_dataset_adapter.py:121: UserWarning: Your `PyDataset` class should call `super().__init__(**kwargs)` in its constructor. `**kwargs` can include `workers`, `use_multiprocessing`, `max_queue_size`. Do not pass these arguments to `fit()`, as they will be ignored.\n",
            "  self._warn_if_super_not_called()\n"
          ]
        },
        {
          "metadata": {
            "tags": null
          },
          "name": "stdout",
          "output_type": "stream",
          "text": [
            "Epoch 22/30\n"
          ]
        },
        {
          "metadata": {
            "tags": null
          },
          "name": "stderr",
          "output_type": "stream",
          "text": [
            "/usr/local/lib/python3.11/dist-packages/tensorflow/python/data/ops/structured_function.py:258: UserWarning: Even though the `tf.config.experimental_run_functions_eagerly` option is set, this option does not apply to tf.data functions. To force eager execution of tf.data functions, please use `tf.data.experimental.enable_debug_mode()`.\n",
            "  warnings.warn(\n"
          ]
        },
        {
          "output_type": "stream",
          "name": "stdout",
          "text": [
            "\u001b[1m1259/1259\u001b[0m \u001b[32m━━━━━━━━━━━━━━━━━━━━\u001b[0m\u001b[37m\u001b[0m \u001b[1m0s\u001b[0m 14s/step - accuracy: 0.8825 - loss: 0.7393 \n",
            "Epoch 22: val_loss improved from inf to 0.69982, saving model to /content/drive/MyDrive/project_folder/best_model.keras\n",
            "\u001b[1m1259/1259\u001b[0m \u001b[32m━━━━━━━━━━━━━━━━━━━━\u001b[0m\u001b[37m\u001b[0m \u001b[1m21671s\u001b[0m 17s/step - accuracy: 0.8825 - loss: 0.7393 - val_accuracy: 0.8899 - val_loss: 0.6998 - learning_rate: 2.5000e-05\n",
            "Epoch 23/30\n",
            "\u001b[1m1259/1259\u001b[0m \u001b[32m━━━━━━━━━━━━━━━━━━━━\u001b[0m\u001b[37m\u001b[0m \u001b[1m0s\u001b[0m 2s/step - accuracy: 0.8818 - loss: 0.7392\n",
            "Epoch 23: val_loss improved from 0.69982 to 0.69965, saving model to /content/drive/MyDrive/project_folder/best_model.keras\n",
            "\u001b[1m1259/1259\u001b[0m \u001b[32m━━━━━━━━━━━━━━━━━━━━\u001b[0m\u001b[37m\u001b[0m \u001b[1m3281s\u001b[0m 3s/step - accuracy: 0.8818 - loss: 0.7392 - val_accuracy: 0.8901 - val_loss: 0.6997 - learning_rate: 2.5000e-05\n",
            "Epoch 24/30\n",
            "\u001b[1m1259/1259\u001b[0m \u001b[32m━━━━━━━━━━━━━━━━━━━━\u001b[0m\u001b[37m\u001b[0m \u001b[1m0s\u001b[0m 2s/step - accuracy: 0.8821 - loss: 0.7381\n",
            "Epoch 24: val_loss improved from 0.69965 to 0.69960, saving model to /content/drive/MyDrive/project_folder/best_model.keras\n",
            "\u001b[1m1259/1259\u001b[0m \u001b[32m━━━━━━━━━━━━━━━━━━━━\u001b[0m\u001b[37m\u001b[0m \u001b[1m3296s\u001b[0m 3s/step - accuracy: 0.8821 - loss: 0.7381 - val_accuracy: 0.8899 - val_loss: 0.6996 - learning_rate: 2.5000e-05\n",
            "Epoch 25/30\n",
            "\u001b[1m1259/1259\u001b[0m \u001b[32m━━━━━━━━━━━━━━━━━━━━\u001b[0m\u001b[37m\u001b[0m \u001b[1m0s\u001b[0m 2s/step - accuracy: 0.8830 - loss: 0.7375\n",
            "Epoch 25: val_loss improved from 0.69960 to 0.69943, saving model to /content/drive/MyDrive/project_folder/best_model.keras\n",
            "\u001b[1m1259/1259\u001b[0m \u001b[32m━━━━━━━━━━━━━━━━━━━━\u001b[0m\u001b[37m\u001b[0m \u001b[1m3258s\u001b[0m 3s/step - accuracy: 0.8830 - loss: 0.7375 - val_accuracy: 0.8903 - val_loss: 0.6994 - learning_rate: 2.5000e-05\n",
            "Epoch 26/30\n",
            "\u001b[1m1259/1259\u001b[0m \u001b[32m━━━━━━━━━━━━━━━━━━━━\u001b[0m\u001b[37m\u001b[0m \u001b[1m0s\u001b[0m 2s/step - accuracy: 0.8824 - loss: 0.7409\n",
            "Epoch 26: val_loss did not improve from 0.69943\n",
            "\u001b[1m1259/1259\u001b[0m \u001b[32m━━━━━━━━━━━━━━━━━━━━\u001b[0m\u001b[37m\u001b[0m \u001b[1m3206s\u001b[0m 3s/step - accuracy: 0.8824 - loss: 0.7409 - val_accuracy: 0.8902 - val_loss: 0.6994 - learning_rate: 2.5000e-05\n",
            "Epoch 27/30\n",
            "\u001b[1m1259/1259\u001b[0m \u001b[32m━━━━━━━━━━━━━━━━━━━━\u001b[0m\u001b[37m\u001b[0m \u001b[1m0s\u001b[0m 2s/step - accuracy: 0.8849 - loss: 0.7272\n",
            "Epoch 27: val_loss did not improve from 0.69943\n",
            "\u001b[1m1259/1259\u001b[0m \u001b[32m━━━━━━━━━━━━━━━━━━━━\u001b[0m\u001b[37m\u001b[0m \u001b[1m3191s\u001b[0m 3s/step - accuracy: 0.8849 - loss: 0.7272 - val_accuracy: 0.8900 - val_loss: 0.6996 - learning_rate: 2.5000e-05\n",
            "Epoch 28/30\n",
            "\u001b[1m1259/1259\u001b[0m \u001b[32m━━━━━━━━━━━━━━━━━━━━\u001b[0m\u001b[37m\u001b[0m \u001b[1m0s\u001b[0m 2s/step - accuracy: 0.8800 - loss: 0.7463\n",
            "Epoch 28: val_loss did not improve from 0.69943\n",
            "\n",
            "Epoch 28: ReduceLROnPlateau reducing learning rate to 1.249999968422344e-05.\n",
            "\u001b[1m1259/1259\u001b[0m \u001b[32m━━━━━━━━━━━━━━━━━━━━\u001b[0m\u001b[37m\u001b[0m \u001b[1m3234s\u001b[0m 3s/step - accuracy: 0.8800 - loss: 0.7463 - val_accuracy: 0.8900 - val_loss: 0.6997 - learning_rate: 2.5000e-05\n",
            "Epoch 29/30\n",
            "\u001b[1m 659/1259\u001b[0m \u001b[32m━━━━━━━━━━\u001b[0m\u001b[37m━━━━━━━━━━\u001b[0m \u001b[1m23:55\u001b[0m 2s/step - accuracy: 0.8845 - loss: 0.7354"
          ]
        }
      ],
      "source": [
        "from google.colab import drive\n",
        "drive.mount('/content/drive')\n",
        "\n",
        "# Set your project folder path on Google Drive\n",
        "project_folder = \"/content/drive/MyDrive/project_folder\"\n",
        "best_model_path = project_folder + \"/best_model.keras\"  # or use .h5 if that's what you saved\n",
        "final_model_path = project_folder + \"/my_model.keras\"\n",
        "\n",
        "# Verify that the model file exists (optional)\n",
        "!ls {project_folder}\n",
        "\n",
        "\n",
        "from tensorflow.keras.models import load_model\n",
        "\n",
        "best_model_path = \"/content/drive/MyDrive/project_folder/best_model.keras\"\n",
        "\n",
        "model = load_model(best_model_path, custom_objects={\"AccumOptimizer\": AccumOptimizer})\n",
        "\n",
        "\n",
        "\n",
        "\n",
        "# Specify the initial epoch and additional epochs\n",
        "initial_epoch = 21\n",
        "additional_epochs = 9  # e.g., continue training for 17 more epochs\n",
        "\n",
        "# Re-define callbacks if needed\n",
        "from tensorflow.keras.callbacks import EarlyStopping, ModelCheckpoint, ReduceLROnPlateau\n",
        "\n",
        "early_stop = EarlyStopping(monitor='val_loss', patience=5, restore_best_weights=True)\n",
        "checkpoint = ModelCheckpoint(best_model_path, monitor='val_loss', save_best_only=True, verbose=1)\n",
        "reduce_lr = ReduceLROnPlateau(monitor='val_loss', factor=0.5, patience=3, verbose=1)\n",
        "\n",
        "# Resume training with initial_epoch set\n",
        "history = model.fit(\n",
        "    train_gen,\n",
        "    validation_data=val_gen,\n",
        "    epochs=initial_epoch + additional_epochs,\n",
        "    initial_epoch=initial_epoch,\n",
        "    callbacks=[early_stop, checkpoint, reduce_lr]\n",
        ")\n"
      ]
    },
    {
      "cell_type": "code",
      "source": [
        "from google.colab import drive\n",
        "drive.mount('/content/drive')\n",
        "\n",
        "# Set your project folder path on Google Drive\n",
        "project_folder = \"/content/drive/MyDrive/project_folder\"\n",
        "best_model_path = project_folder + \"/best_model.keras\"  # or use .h5 if that's what you saved\n",
        "final_model_path = project_folder + \"/my_model.keras\"\n",
        "\n",
        "# Verify that the model file exists (optional)\n",
        "!ls {project_folder}\n",
        "\n",
        "\n",
        "from tensorflow.keras.models import load_model\n",
        "\n",
        "best_model_path = \"/content/drive/MyDrive/project_folder/best_model.keras\"\n",
        "\n",
        "model = load_model(best_model_path, custom_objects={\"AccumOptimizer\": AccumOptimizer})\n",
        "\n",
        "\n",
        "\n",
        "\n",
        "# Specify the initial epoch and additional epochs\n",
        "initial_epoch = 28\n",
        "additional_epochs = 2 # e.g., continue training for 17 more epochs\n",
        "\n",
        "# Re-define callbacks if needed\n",
        "from tensorflow.keras.callbacks import EarlyStopping, ModelCheckpoint, ReduceLROnPlateau\n",
        "\n",
        "early_stop = EarlyStopping(monitor='val_loss', patience=5, restore_best_weights=True)\n",
        "checkpoint = ModelCheckpoint(best_model_path, monitor='val_loss', save_best_only=True, verbose=1)\n",
        "reduce_lr = ReduceLROnPlateau(monitor='val_loss', factor=0.5, patience=3, verbose=1)\n",
        "\n",
        "# Resume training with initial_epoch set\n",
        "history = model.fit(\n",
        "    train_gen,\n",
        "    validation_data=val_gen,\n",
        "    epochs=initial_epoch + additional_epochs,\n",
        "    initial_epoch=initial_epoch,\n",
        "    callbacks=[early_stop, checkpoint, reduce_lr]\n",
        ")\n"
      ],
      "metadata": {
        "colab": {
          "base_uri": "https://localhost:8080/"
        },
        "id": "hYZ-BLILK5qT",
        "outputId": "db3ee6ac-cf13-41ae-85a8-a8d573bbdeb3"
      },
      "execution_count": null,
      "outputs": [
        {
          "output_type": "stream",
          "name": "stdout",
          "text": [
            "Drive already mounted at /content/drive; to attempt to forcibly remount, call drive.mount(\"/content/drive\", force_remount=True).\n",
            "best_model.keras  class_labels.txt\n"
          ]
        },
        {
          "output_type": "stream",
          "name": "stderr",
          "text": [
            "/usr/local/lib/python3.11/dist-packages/keras/src/trainers/data_adapters/py_dataset_adapter.py:121: UserWarning: Your `PyDataset` class should call `super().__init__(**kwargs)` in its constructor. `**kwargs` can include `workers`, `use_multiprocessing`, `max_queue_size`. Do not pass these arguments to `fit()`, as they will be ignored.\n",
            "  self._warn_if_super_not_called()\n"
          ]
        },
        {
          "output_type": "stream",
          "name": "stdout",
          "text": [
            "Epoch 29/30\n"
          ]
        },
        {
          "output_type": "stream",
          "name": "stderr",
          "text": [
            "/usr/local/lib/python3.11/dist-packages/tensorflow/python/data/ops/structured_function.py:258: UserWarning: Even though the `tf.config.experimental_run_functions_eagerly` option is set, this option does not apply to tf.data functions. To force eager execution of tf.data functions, please use `tf.data.experimental.enable_debug_mode()`.\n",
            "  warnings.warn(\n"
          ]
        },
        {
          "output_type": "stream",
          "name": "stdout",
          "text": [
            "\u001b[1m1259/1259\u001b[0m \u001b[32m━━━━━━━━━━━━━━━━━━━━\u001b[0m\u001b[37m\u001b[0m \u001b[1m0s\u001b[0m 11s/step - accuracy: 0.8784 - loss: 0.7504 \n",
            "Epoch 29: val_loss improved from inf to 0.69952, saving model to /content/drive/MyDrive/project_folder/best_model.keras\n",
            "\u001b[1m1259/1259\u001b[0m \u001b[32m━━━━━━━━━━━━━━━━━━━━\u001b[0m\u001b[37m\u001b[0m \u001b[1m16734s\u001b[0m 13s/step - accuracy: 0.8784 - loss: 0.7504 - val_accuracy: 0.8899 - val_loss: 0.6995 - learning_rate: 2.5000e-05\n",
            "Epoch 30/30\n",
            "\u001b[1m1259/1259\u001b[0m \u001b[32m━━━━━━━━━━━━━━━━━━━━\u001b[0m\u001b[37m\u001b[0m \u001b[1m0s\u001b[0m 1s/step - accuracy: 0.8824 - loss: 0.7346\n",
            "Epoch 30: val_loss did not improve from 0.69952\n",
            "\u001b[1m1259/1259\u001b[0m \u001b[32m━━━━━━━━━━━━━━━━━━━━\u001b[0m\u001b[37m\u001b[0m \u001b[1m1857s\u001b[0m 1s/step - accuracy: 0.8824 - loss: 0.7346 - val_accuracy: 0.8901 - val_loss: 0.6998 - learning_rate: 2.5000e-05\n"
          ]
        }
      ]
    },
    {
      "cell_type": "code",
      "execution_count": null,
      "metadata": {
        "id": "FhNbBcG3JxTI",
        "colab": {
          "base_uri": "https://localhost:8080/"
        },
        "outputId": "992fab58-4989-42a0-cf53-90d8463ae9df"
      },
      "outputs": [
        {
          "output_type": "stream",
          "name": "stdout",
          "text": [
            "✅ Model training complete & saved.\n"
          ]
        }
      ],
      "source": [
        "model.save('my_model.keras')\n",
        "print(\"✅ Model training complete & saved.\")\n"
      ]
    },
    {
      "cell_type": "code",
      "execution_count": null,
      "metadata": {
        "id": "9EzlkQmkKEJ6",
        "colab": {
          "base_uri": "https://localhost:8080/",
          "height": 524
        },
        "outputId": "4905efdc-b39e-4129-ebc4-d5aad15cc904"
      },
      "outputs": [
        {
          "output_type": "display_data",
          "data": {
            "text/plain": [
              "<Figure size 1200x500 with 2 Axes>"
            ],
            "image/png": "[encoded data removed]"
          },
          "metadata": {}
        },
        {
          "output_type": "stream",
          "name": "stdout",
          "text": [
            "✅ Final Train Accuracy: 88.15%\n",
            "✅ Final Val Accuracy: 89.01%\n"
          ]
        }
      ],
      "source": [
        "##############################################\n",
        "#  PLOTTING TRAINING RESULTS\n",
        "##############################################\n",
        "plt.figure(figsize=(12,5))\n",
        "plt.subplot(1,2,1)\n",
        "plt.plot(history.history['accuracy'], label='Train Accuracy')\n",
        "plt.plot(history.history['val_accuracy'], label='Val Accuracy')\n",
        "plt.title('Model Accuracy')\n",
        "plt.xlabel('Epochs')\n",
        "plt.ylabel('Accuracy')\n",
        "plt.legend()\n",
        "plt.subplot(1,2,2)\n",
        "plt.plot(history.history['loss'], label='Train Loss')\n",
        "plt.plot(history.history['val_loss'], label='Val Loss')\n",
        "plt.title('Model Loss')\n",
        "plt.xlabel('Epochs')\n",
        "plt.ylabel('Loss')\n",
        "plt.legend()\n",
        "plt.show()\n",
        "\n",
        "print(f\"✅ Final Train Accuracy: {history.history['accuracy'][-1]*100:.2f}%\")\n",
        "print(f\"✅ Final Val Accuracy: {history.history['val_accuracy'][-1]*100:.2f}%\")\n"
      ]
    },
    {
      "cell_type": "code",
      "execution_count": null,
      "metadata": {
        "id": "kZaG31FeKEMv"
      },
      "outputs": [],
      "source": [
        "#############################################\n",
        "#  REAL-TIME GESTURE PREDICTION WITH LETTER MODE\n",
        "##############################################\n",
        "# Reload model and class labels\n",
        "model = load_model('my_model.keras')\n",
        "with open('class_labels.txt', 'r') as file:\n",
        "    class_labels = [line.strip() for line in file]\n",
        "\n",
        "cap = cv2.VideoCapture(0)\n",
        "cap.set(cv2.CAP_PROP_FRAME_WIDTH, 1280)\n",
        "cap.set(cv2.CAP_PROP_FRAME_HEIGHT, 720)\n",
        "\n",
        "letter_mode = False  # Default: Normal mode\n",
        "sentence = \"\"        # Accumulated sentence in letter mode\n",
        "instructions_text = (\"L: Toggle Letter Mode | SPACE: Append Letter | C: Clear Sentence | Q: Quit\")\n",
        "\n",
        "while True:\n",
        "    ret, frame = cap.read()\n",
        "    if not ret:\n",
        "        print(\"❌ Failed to capture frame from webcam.\")\n",
        "        break\n",
        "\n",
        "    cv2.putText(frame, instructions_text, (10, 30),\n",
        "                cv2.FONT_HERSHEY_SIMPLEX, 0.6, (255,255,255), 2)\n",
        "\n",
        "    # Define an enlarged ROI for hand gesture capture\n",
        "    roi_x1, roi_y1 = 50, 50\n",
        "    roi_x2, roi_y2 = 500, 500\n",
        "    cv2.rectangle(frame, (roi_x1, roi_y1), (roi_x2, roi_y2), (0, 255, 0), 2)\n",
        "    roi = frame[roi_y1:roi_y2, roi_x1:roi_x2]\n",
        "\n",
        "    roi_resized = cv2.resize(roi, (img_size, img_size))\n",
        "    roi_array = img_to_array(roi_resized) / 255.0\n",
        "    roi_array = np.expand_dims(roi_array, axis=0)\n",
        "\n",
        "    predictions = model.predict(roi_array)\n",
        "    predicted_index = np.argmax(predictions[0])\n",
        "    predicted_letter = class_labels[predicted_index]\n",
        "\n",
        "    if letter_mode:\n",
        "        cv2.putText(frame, \"LETTER MODE ON\", (10, 70),\n",
        "                    cv2.FONT_HERSHEY_SIMPLEX, 1, (0,0,255), 2)\n",
        "        cv2.putText(frame, f\"Current Letter: {predicted_letter}\", (10, 110),\n",
        "                    cv2.FONT_HERSHEY_SIMPLEX, 1, (0,0,255), 2)\n",
        "        cv2.putText(frame, f\"Sentence: {sentence}\", (10, 150),\n",
        "                    cv2.FONT_HERSHEY_SIMPLEX, 1, (255,0,0), 2)\n",
        "    else:\n",
        "        cv2.putText(frame, f\"Prediction: {predicted_letter}\", (10, 70),\n",
        "                    cv2.FONT_HERSHEY_SIMPLEX, 1, (0,255,0), 2)\n",
        "\n",
        "    cv2.imshow(\"Sign Language Recognition\", frame)\n",
        "\n",
        "    key = cv2.waitKey(1) & 0xFF\n",
        "    if key == ord('q'):\n",
        "        break\n",
        "    elif key == ord('l'):\n",
        "        letter_mode = not letter_mode\n",
        "        if not letter_mode:\n",
        "            sentence = \"\"  # Clear sentence when exiting letter mode\n",
        "    elif key == ord('c'):\n",
        "        sentence = \"\"  # Clear sentence buffer\n",
        "    elif key == 32 and letter_mode:  # SPACE key appends current letter in letter mode\n",
        "        sentence += predicted_letter\n",
        "\n",
        "cap.release()\n",
        "cv2.destroyAllWindows()\n"
      ]
    }
  ],
  "metadata": {
    "colab": {
      "provenance": []
    },
    "kernelspec": {
      "display_name": "Python 3",
      "name": "python3"
    },
    "language_info": {
      "name": "python"
    }
  },
  "nbformat": 4,
  "nbformat_minor": 0
}